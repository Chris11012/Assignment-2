{
 "cells": [
  {
   "cell_type": "markdown",
   "id": "5f62577b",
   "metadata": {},
   "source": [
    "# Assignment 2 Chapter 2\n",
    "## By Christopher Douglas\n",
    "### Version 1 \n",
    "#### Computer Programming for the Liberal Arts"
   ]
  },
  {
   "cell_type": "code",
   "execution_count": 1,
   "id": "df6f5da6",
   "metadata": {},
   "outputs": [
    {
     "name": "stdout",
     "output_type": "stream",
     "text": [
      "Enter a floating-point number 44.3\n"
     ]
    }
   ],
   "source": [
    "number1=float(input(\"Enter a floating-point number \"))"
   ]
  },
  {
   "cell_type": "code",
   "execution_count": 2,
   "id": "33a3ad34",
   "metadata": {},
   "outputs": [
    {
     "name": "stdout",
     "output_type": "stream",
     "text": [
      "Enter a integer 16\n"
     ]
    }
   ],
   "source": [
    "number2=int(input(\"Enter a integer \"))"
   ]
  },
  {
   "cell_type": "code",
   "execution_count": 12,
   "id": "0c99573a",
   "metadata": {},
   "outputs": [
    {
     "name": "stdout",
     "output_type": "stream",
     "text": [
      "The sum is 60.3\n"
     ]
    }
   ],
   "source": [
    "print(\"The sum is\", number1+number2)"
   ]
  },
  {
   "cell_type": "code",
   "execution_count": 20,
   "id": "c30bd1c4",
   "metadata": {},
   "outputs": [
    {
     "name": "stdout",
     "output_type": "stream",
     "text": [
      "The difference is 28.299999999999997\n"
     ]
    }
   ],
   "source": [
    "print(\"The difference is\", number1-number2)"
   ]
  },
  {
   "cell_type": "code",
   "execution_count": 13,
   "id": "79daf879",
   "metadata": {},
   "outputs": [
    {
     "name": "stdout",
     "output_type": "stream",
     "text": [
      "The Product 708.8\n"
     ]
    }
   ],
   "source": [
    "print(\"The product\", number1*number2)"
   ]
  },
  {
   "cell_type": "code",
   "execution_count": 16,
   "id": "ea9f0a3b",
   "metadata": {},
   "outputs": [
    {
     "name": "stdout",
     "output_type": "stream",
     "text": [
      "The quotiet 2.76875\n"
     ]
    }
   ],
   "source": [
    "print(\"The quotiet\", number1/number2)"
   ]
  },
  {
   "cell_type": "code",
   "execution_count": 18,
   "id": "f3bd370c",
   "metadata": {},
   "outputs": [
    {
     "name": "stdout",
     "output_type": "stream",
     "text": [
      "The type for the result is <class 'float'>\n"
     ]
    }
   ],
   "source": [
    "print(\"The type for the result is\", (type(number1/number2)))"
   ]
  }
 ],
 "metadata": {
  "kernelspec": {
   "display_name": "Python 3 (ipykernel)",
   "language": "python",
   "name": "python3"
  },
  "language_info": {
   "codemirror_mode": {
    "name": "ipython",
    "version": 3
   },
   "file_extension": ".py",
   "mimetype": "text/x-python",
   "name": "python",
   "nbconvert_exporter": "python",
   "pygments_lexer": "ipython3",
   "version": "3.9.13"
  }
 },
 "nbformat": 4,
 "nbformat_minor": 5
}
